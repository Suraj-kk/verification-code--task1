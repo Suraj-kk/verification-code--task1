{
 "cells": [
  {
   "cell_type": "code",
   "execution_count": 3,
   "id": "4e9a450f",
   "metadata": {},
   "outputs": [],
   "source": [
    "\n",
    "import re\n",
    "condition = '^[a-z0-9]+[\\._]?[a-z0-9]+[@]\\w+[.]\\w{2,3}$'\n",
    "terms = '^(?=.*[a-z)])(?=.*[A-Z])(?=.*\\d)(?=.*[@$%!*#?&])[A-Za-z\\d@$!#%*?&]{6,20}$'\n",
    "\n",
    "def begin ():\n",
    "  global option\n",
    "  option=input('login|reg|forgotpassword: ')\n",
    "  if option=='login':\n",
    "    login()\n",
    "  elif option=='reg':\n",
    "    register()\n",
    "  elif option=='forgotpassword':\n",
    "    retrive()\n",
    "  else:\n",
    "    print('please enter an option')\n",
    "    begin()\n",
    "\n",
    "\n",
    "#register\n",
    "def register():\n",
    "  file=open('user_details.txt','r')\n",
    "  username=input('enter your emailid :')\n",
    "  if (re.search(condition, username)):\n",
    "      file = open('user_details.txt', 'r')\n",
    "      print(file)\n",
    "      for i in file:\n",
    "        x = i.split(',')\n",
    "        if x[0] == []:\n",
    "            print(\"Valid Email\")\n",
    "            break\n",
    "        if x[0] == username:\n",
    "            print('user name already exist')\n",
    "            register()\n",
    "  else:\n",
    "      print(\"Invalid Email ,please enter a valid email_id\")\n",
    "      register()\n",
    "\n",
    "  password=input('enter your password :')\n",
    "\n",
    "  if (re.search(terms,password)):\n",
    "      file = open(\"user_details.txt\", \"a\")\n",
    "      file.write(username + \",\" + password +\"\\n\")\n",
    "      print(\"registration successful\")       \n",
    "  else:\n",
    "      print(\"Invalid password,please enter a valid password\")\n",
    "      register()\n",
    "   \n",
    "\n",
    "def login():\n",
    "  file = open('user_details.txt', 'r')\n",
    "  print(file)\n",
    "  username = input('enter your email_id :')\n",
    "  password = input('enter your password :')\n",
    "\n",
    "  for i in file:\n",
    "      a, b = i.split(',')\n",
    "      b = b.strip()\n",
    "\n",
    "      if b==password and a==username:\n",
    "          print('login success')\n",
    "          break\n",
    "  else:\n",
    "     print('username or password wrong please enter the valid email and password')\n",
    "     begin()\n",
    "\n",
    "def retrive():\n",
    "    file = open('user_details.txt', 'r')\n",
    "    username = input('enter your email_id :')\n",
    "    for i in file:\n",
    "       x = i.split(',')\n",
    "       if x[0]==username:\n",
    "           print(x[1])\n",
    "           break\n",
    "           \n",
    "    else:\n",
    "        print('invalid username')\n",
    "        begin()\n",
    "#begin()\n"
   ]
  },
  {
   "cell_type": "code",
   "execution_count": 4,
   "id": "b6bb9d1b",
   "metadata": {},
   "outputs": [
    {
     "data": {
      "text/plain": [
       "3"
      ]
     },
     "execution_count": 4,
     "metadata": {},
     "output_type": "execute_result"
    }
   ],
   "source": [
    "a=3\n",
    "a"
   ]
  },
  {
   "cell_type": "code",
   "execution_count": null,
   "id": "e00bba57",
   "metadata": {},
   "outputs": [],
   "source": []
  },
  {
   "cell_type": "code",
   "execution_count": null,
   "id": "753ebba8",
   "metadata": {},
   "outputs": [],
   "source": []
  },
  {
   "cell_type": "code",
   "execution_count": null,
   "id": "fd24b2e0",
   "metadata": {},
   "outputs": [],
   "source": []
  }
 ],
 "metadata": {
  "kernelspec": {
   "display_name": "Python 3 (ipykernel)",
   "language": "python",
   "name": "python3"
  },
  "language_info": {
   "codemirror_mode": {
    "name": "ipython",
    "version": 3
   },
   "file_extension": ".py",
   "mimetype": "text/x-python",
   "name": "python",
   "nbconvert_exporter": "python",
   "pygments_lexer": "ipython3",
   "version": "3.9.12"
  }
 },
 "nbformat": 4,
 "nbformat_minor": 5
}
